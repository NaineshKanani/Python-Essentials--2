{
  "nbformat": 4,
  "nbformat_minor": 0,
  "metadata": {
    "colab": {
      "name": "Day2-Assignments.ipynb",
      "provenance": [],
      "authorship_tag": "ABX9TyOu7PdTQBPpiuoHSI2ji9Ax",
      "include_colab_link": true
    },
    "kernelspec": {
      "name": "python3",
      "display_name": "Python 3"
    },
    "language_info": {
      "name": "python"
    }
  },
  "cells": [
    {
      "cell_type": "markdown",
      "metadata": {
        "id": "view-in-github",
        "colab_type": "text"
      },
      "source": [
        "<a href=\"https://colab.research.google.com/github/NaineshKanani/Python-Essentials--2/blob/main/Day2_Assignments.ipynb\" target=\"_parent\"><img src=\"https://colab.research.google.com/assets/colab-badge.svg\" alt=\"Open In Colab\"/></a>"
      ]
    },
    {
      "cell_type": "code",
      "metadata": {
        "colab": {
          "base_uri": "https://localhost:8080/"
        },
        "id": "vCBndqTLcN4E",
        "outputId": "23cb299e-b7f2-4bfd-b7b8-3948e3e76319"
      },
      "source": [
        "#Assignment-2\n",
        "#Remove all Accurences of an Element from a list.\n",
        "\n",
        "l=[1,2,3,4,5,2,1]\n",
        "print(\"List:-\",l)\n",
        "a=int(input(\"Enter the num which you want to remove of all Accurences:-\"))\n",
        "for i in l:\n",
        "  if (i==a):\n",
        "    l.remove(i)\n",
        "print(l)"
      ],
      "execution_count": 3,
      "outputs": [
        {
          "output_type": "stream",
          "text": [
            "List:- [1, 2, 3, 4, 5, 2, 1]\n",
            "Enter the num which you want to remove of all Accurences:-2\n",
            "[1, 3, 4, 5, 1]\n"
          ],
          "name": "stdout"
        }
      ]
    },
    {
      "cell_type": "code",
      "metadata": {
        "colab": {
          "base_uri": "https://localhost:8080/"
        },
        "id": "A7ykEg4ismoW",
        "outputId": "62d0728d-62ff-4a63-d3b7-6f3daf517ba3"
      },
      "source": [
        "#Assignment-3\n",
        "#Check Wether the string is pangram or not\n",
        "# Python3 program to\n",
        "# Check if the string is pangram\n",
        "\n",
        "import string as s\n",
        "string = 'the quick brown fox jumps over the lazy dog'\n",
        "alphabet = \"abcdefghijklmnopqrstuvwxyz\"\n",
        "for char in alphabet:\n",
        "  if char not in string.lower():\n",
        "    Print(\"No\") \n",
        "print(\"Yes\")\n"
      ],
      "execution_count": 13,
      "outputs": [
        {
          "output_type": "stream",
          "text": [
            "Yes\n"
          ],
          "name": "stdout"
        }
      ]
    },
    {
      "cell_type": "code",
      "metadata": {
        "colab": {
          "base_uri": "https://localhost:8080/"
        },
        "id": "5X8F03dXwknb",
        "outputId": "93305255-3d60-4a48-8b09-ad0e4c0b1424"
      },
      "source": [
        "#Project: OTP Generator\n",
        "# Generate a 6 character OTP\n",
        "import random as r\n",
        "import string\n",
        "length = 8\n",
        "otp = ''\n",
        "characters = string.ascii_letters + string.digits\n",
        "print(characters)\n",
        "\n",
        "for i in range(length):\n",
        "  otp = otp + r.choice(characters)\n",
        "\n",
        "print(\"OTP:\", otp)"
      ],
      "execution_count": 14,
      "outputs": [
        {
          "output_type": "stream",
          "text": [
            "abcdefghijklmnopqrstuvwxyzABCDEFGHIJKLMNOPQRSTUVWXYZ0123456789\n",
            "OTP: ms5dGd8Q\n"
          ],
          "name": "stdout"
        }
      ]
    }
  ]
}