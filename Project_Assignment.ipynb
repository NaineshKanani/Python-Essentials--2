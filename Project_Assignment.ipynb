{
  "nbformat": 4,
  "nbformat_minor": 0,
  "metadata": {
    "colab": {
      "name": "Project-Assignment.ipynb",
      "provenance": [],
      "collapsed_sections": [],
      "authorship_tag": "ABX9TyMBsIyMOqX2m6x5Ddw6xbr0",
      "include_colab_link": true
    },
    "kernelspec": {
      "name": "python3",
      "display_name": "Python 3"
    },
    "language_info": {
      "name": "python"
    }
  },
  "cells": [
    {
      "cell_type": "markdown",
      "metadata": {
        "id": "view-in-github",
        "colab_type": "text"
      },
      "source": [
        "<a href=\"https://colab.research.google.com/github/NaineshKanani/Python-Essentials--2/blob/main/Project_Assignment.ipynb\" target=\"_parent\"><img src=\"https://colab.research.google.com/assets/colab-badge.svg\" alt=\"Open In Colab\"/></a>"
      ]
    },
    {
      "cell_type": "code",
      "metadata": {
        "colab": {
          "base_uri": "https://localhost:8080/"
        },
        "id": "03sQ3e99iMxN",
        "outputId": "ca99d453-8a60-43a5-ec6c-ec3857da2a49"
      },
      "source": [
        "#Project-Celcius to Fahrenhit Converter\n",
        "\n",
        "def celtofahrenhit(cel):\n",
        "  fahrenheit = (cel * 1.8) + 32\n",
        "  return fahrenheit\n",
        "celcius=float(input(\"Enter the value in Celcius:-\"))\n",
        "res=celtofahrenhit(celcius)\n",
        "print(f\"{celcius} Celsius is eual to {res} degree  Fahrenheit\")  "
      ],
      "execution_count": 23,
      "outputs": [
        {
          "output_type": "stream",
          "text": [
            "Enter the value in Celcius:-1\n",
            "1.0 Celsius is eual to 33.8 degree  Fahrenheit\n"
          ],
          "name": "stdout"
        }
      ]
    }
  ]
}